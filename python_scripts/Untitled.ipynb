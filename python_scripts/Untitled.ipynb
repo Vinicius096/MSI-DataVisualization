{
 "cells": [
  {
   "cell_type": "code",
   "execution_count": 144,
   "source": [
    "import plotly.express as px\n",
    "import pandas as pd\n",
    "\n",
    "df = pd.read_csv('../data/results.csv')\n",
    "head = ['cplusplus', 'javascript', 'python', 'java', 'php']\n",
    "fig = px.box(df, x='Linguagem', y='TF', category_orders={'Linguagem':head}, hover_name='Repositories', points='all')\n",
    "fig.write_html('../docs/boxplot.html')\n"
   ],
   "outputs": [
    {
     "output_type": "display_data",
     "data": {
      "text/html": [
       "<div>                            <div id=\"456bc363-65a6-49d8-bf58-35438c75f780\" class=\"plotly-graph-div\" style=\"height:525px; width:100%;\"></div>            <script type=\"text/javascript\">                require([\"plotly\"], function(Plotly) {                    window.PLOTLYENV=window.PLOTLYENV || {};                                    if (document.getElementById(\"456bc363-65a6-49d8-bf58-35438c75f780\")) {                    Plotly.newPlot(                        \"456bc363-65a6-49d8-bf58-35438c75f780\",                        [{\"alignmentgroup\":\"True\",\"boxpoints\":\"all\",\"hovertemplate\":\"<b>%{hovertext}</b><br><br>Linguagem=%{x}<br>TF=%{y}<extra></extra>\",\"hovertext\":[\"vuejs/vue\",\"facebook/react\",\"twbs/bootstrap\",\"d3/d3\",\"facebook/react-native\",\"facebook/create-react-app\",\"axios/axios\",\"nodejs/node\",\"angular/angular.js\",\"puppeteer/puppeteer\",\"mrdoob/three.js\",\"mui-org/material-ui\",\"webpack/webpack\",\"jquery/jquery\",\"atom/atom\",\"hakimel/reveal.js\",\"socketio/socket.io\",\"expressjs/express\",\"Semantic-Org/Semantic-UI\",\"chartjs/Chart.js\",\"typicode/json-server\",\"zeit/next.js\",\"h5bp/html5-boilerplate\",\"adam-p/markdown-here\",\"resume/resume.github.com\",\"lodash/lodash\",\"moment/moment\",\"gatsbyjs/gatsby\",\"meteor/meteor\",\"apache/incubator-echarts\",\"ReactTraining/react-router\",\"yarnpkg/yarn\",\"Dogfalo/materialize\",\"nwjs/nw.js\",\"babel/babel\",\"impress/impress.js\",\"prettier/prettier\",\"parcel-bundler/parcel\",\"serverless/serverless\",\"juliangarnier/anime\",\"ColorlibHQ/AdminLTE\",\"TryGhost/Ghost\",\"Unitech/pm2\",\"gulpjs/gulp\",\"adobe/brackets\",\"sveltejs/svelte\",\"hexojs/hexo\",\"mozilla/pdf.js\",\"sahat/hackathon-starter\",\"alvarotrigo/fullPage.js\",\"immutable-js/immutable-js\",\"slatedocs/slate\",\"koajs/koa\",\"algorithm-visualizer/algorithm-visualizer\",\"mermaid-js/mermaid\",\"styled-components/styled-components\",\"zenorocha/clipboard.js\",\"apache/incubator-superset\",\"jashkenas/backbone\",\"videojs/video.js\",\"Leaflet/Leaflet\",\"photonstorm/phaser\",\"caolan/async\",\"tastejs/todomvc\",\"iamkun/dayjs\",\"quilljs/quill\",\"nuxt/nuxt.js\",\"RocketChat/Rocket.Chat\",\"preactjs/preact\",\"kenwheeler/slick\",\"jashkenas/underscore\",\"react-boilerplate/react-boilerplate\",\"nylas/nylas-mail\",\"vuejs/vue-cli\",\"select2/select2\",\"request/request\",\"Modernizr/Modernizr\",\"NervJS/taro\",\"standard/standard\",\"github/fetch\",\"carbon-app/carbon\",\"vuejs/vuex\",\"nolimits4web/swiper\",\"Marak/faker.js\",\"jiahaog/nativefier\",\"postcss/postcss\",\"strapi/strapi\",\"transloadit/uppy\",\"GitbookIO/gitbook\",\"markedjs/marked\",\"date-fns/date-fns\",\"lerna/lerna\",\"emberjs/ember.js\",\"webtorrent/webtorrent\",\"mobxjs/mobx\",\"cheeriojs/cheerio\",\"sequelize/sequelize\",\"balderdashy/sails\",\"ajaxorg/ace\",\"VincentGarreau/particles.js\",\"elastic/elasticsearch\",\"spring-projects/spring-boot\",\"ReactiveX/RxJava\",\"square/okhttp\",\"google/guava\",\"spring-projects/spring-framework\",\"square/retrofit\",\"apache/dubbo\",\"macrozheng/mall\",\"PhilJay/MPAndroidChart\",\"bumptech/glide\",\"airbnb/lottie-android\",\"proxyee-down-org/proxyee-down\",\"JakeWharton/butterknife\",\"zxing/zxing\",\"crossoverJie/JCSprout\",\"netty/netty\",\"greenrobot/EventBus\",\"skylot/jadx\",\"alibaba/fastjson\",\"alibaba/druid\",\"scwang90/SmartRefreshLayout\",\"NationalSecurityAgency/ghidra\",\"ctripcorp/apollo\",\"alibaba/arthas\",\"CymChad/BaseRecyclerViewAdapterHelper\",\"Netflix/Hystrix\",\"ReactiveX/RxAndroid\",\"google/gson\",\"square/picasso\",\"SeleniumHQ/selenium\",\"nostra13/Android-Universal-Image-Loader\",\"libgdx/libgdx\",\"chrisbanes/PhotoView\",\"facebook/fresco\",\"apache/kafka\",\"google/ExoPlayer\",\"jenkinsci/jenkins\",\"Tencent/tinker\",\"seata/seata\",\"lenve/vhr\",\"bazelbuild/bazel\",\"qiurunze123/miaosha\",\"DrKLO/Telegram\",\"CarGuo/GSYVideoPlayer\",\"halo-dev/halo\",\"didi/DoraemonKit\",\"lgvalle/Material-Animations\",\"xuxueli/xxl-job\",\"dianping/cat\",\"signalapp/Signal-Android\",\"alibaba/canal\",\"react-native-community/lottie-react-native\",\"openzipkin/zipkin\",\"EnterpriseQualityCoding/FizzBuzzEnterpriseEdition\",\"apache/skywalking\",\"brettwooldridge/HikariCP\",\"dbeaver/dbeaver\",\"redisson/redisson\",\"orhanobut/logger\",\"LMAX-Exchange/disruptor\",\"greenrobot/greenDAO\",\"oracle/graal\",\"alibaba/spring-cloud-alibaba\",\"facebook/stetho\",\"daimajia/AndroidSwipeLayout\",\"eclipse/deeplearning4j\",\"alibaba/ARouter\",\"linlinjava/litemall\",\"Curzibn/Luban\",\"Bigkoo/Android-PickerView\",\"wix/react-native-navigation\",\"jfeinstein10/SlidingMenu\",\"androidannotations/androidannotations\",\"Konloch/bytecode-viewer\",\"alibaba/Sentinel\",\"realm/realm-java\",\"eclipse-vertx/vert.x\",\"zhihu/Matisse\",\"alibaba/nacos\",\"Tencent/VasSonic\",\"Tamsiree/RxTool\",\"android-async-http/android-async-http\",\"apache/rocketmq\",\"prestodb/presto\",\"mockito/mockito\",\"apache/hadoop\",\"alibaba/vlayout\",\"Tencent/QMUI_Android\",\"zhangdaiscott/jeecg-boot\",\"looly/hutool\",\"arduino/Arduino\",\"naver/pinpoint\",\"jeasonlzy/okhttp-OkGo\",\"wasabeef/recyclerview-animators\",\"permissions-dispatcher/PermissionsDispatcher\",\"liaohuqiu/android-Ultra-Pull-To-Refresh\",\"iBotPeaches/Apktool\",\"H07000223/FlycoTabLayout\",\"ksoichiro/Android-ObservableScrollView\",\"tensorflow/tensorflow\",\"electron/electron\",\"microsoft/terminal\",\"apple/swift\",\"opencv/opencv\",\"bitcoin/bitcoin\",\"protocolbuffers/protobuf\",\"pytorch/pytorch\",\"x64dbg/x64dbg\",\"tesseract-ocr/tesseract\",\"BVLC/caffe\",\"godotengine/godot\",\"ariya/phantomjs\",\"grpc/grpc\",\"rethinkdb/rethinkdb\",\"cmderdev/cmder\",\"google/leveldb\",\"microsoft/calculator\",\"ocornut/imgui\",\"aria2/aria2\",\"emscripten-core/emscripten\",\"dmlc/xgboost\",\"nlohmann/json\",\"mongodb/mongo\",\"microsoft/CNTK\",\"osquery/osquery\",\"CMU-Perceptual-Computing-Lab/openpose\",\"facebook/rocksdb\",\"ApolloAuto/apollo\",\"microsoft/PowerToys\",\"swoole/swoole-src\",\"uglide/RedisDesktopManager\",\"v8/v8\",\"google/googletest\",\"facebook/folly\",\"commaai/openpilot\",\"cocos2d/cocos2d-x\",\"Tencent/mars\",\"google/flatbuffers\",\"apache/incubator-weex\",\"haoel/leetcode\",\"facebook/yoga\",\"sqlitebrowser/sqlitebrowser\",\"envoyproxy/envoy\",\"google/guetzli\",\"telegramdesktop/tdesktop\",\"uNetworking/uWebSockets\",\"vnpy/vnpy\",\"microsoft/react-native-windows\",\"catchorg/Catch2\",\"EOSIO/eos\",\"PaddlePaddle/Paddle\",\"microsoft/LightGBM\",\"notepad-plus-plus/notepad-plus-plus\",\"google/libphonenumber\",\"ValveSoftware/Proton\",\"xbmc/xbmc\",\"taichi-dev/taichi\",\"pqrs-org/Karabiner-Elements\",\"arendst/Tasmota\",\"ClickHouse/ClickHouse\",\"apple/foundationdb\",\"apache/incubator-brpc\",\"microsoft/AirSim\",\"yuzu-emu/yuzu\",\"SFTtech/openage\",\"apple/turicreate\",\"CRYTEK/CRYENGINE\",\"arangodb/arangodb\",\"openalpr/openalpr\",\"yangyangwithgnu/hardseed\",\"lemire/simdjson\",\"facebookresearch/faiss\",\"mobile-shell/mosh\",\"Tencent/rapidjson\",\"microsoft/napajs\",\"facebook/watchman\",\"davisking/dlib\",\"google/filament\",\"trojan-gfw/trojan\",\"qbittorrent/qBittorrent\",\"ShiqiYu/libfacedetection\",\"Tencent/ncnn\",\"ssloy/tinyrenderer\",\"aseprite/aseprite\",\"TarsCloud/Tars\",\"gabime/spdlog\",\"Studio3T/robomongo\",\"diasurgical/devilution\",\"OpenRCT2/OpenRCT2\",\"ethereum/solidity\",\"zealdocs/zeal\",\"acaudwell/Gource\",\"shadowsocks/shadowsocks-qt5\",\"openframeworks/openFrameworks\",\"CoatiSoftware/Sourcetrail\",\"ossrs/srs\",\"RPCS3/rpcs3\",\"ceph/ceph\",\"bkaradzic/bgfx\",\"ytdl-org/youtube-dl\",\"nvbn/thefuck\",\"pallets/flask\",\"django/django\",\"keras-team/keras\",\"jakubroztocil/httpie\",\"ansible/ansible\",\"psf/requests\",\"scikit-learn/scikit-learn\",\"scrapy/scrapy\",\"ageitgey/face_recognition\",\"home-assistant/core\",\"soimort/you-get\",\"XX-net/XX-Net\",\"python/cpython\",\"deepfakes/faceswap\",\"testerSunshine/12306\",\"certbot/certbot\",\"getsentry/sentry\",\"pandas-dev/pandas\",\"localstack/localstack\",\"huggingface/transformers\",\"facebookresearch/Detectron\",\"fxsjy/jieba\",\"ycm-core/YouCompleteMe\",\"littlecodersh/ItChat\",\"openai/gym\",\"pypa/pipenv\",\"tornadoweb/tornado\",\"docker/compose\",\"apache/incubator-mxnet\",\"chubin/cheat.sh\",\"hankcs/HanLP\",\"mitmproxy/mitmproxy\",\"trailofbits/algo\",\"3b1b/manim\",\"odoo/odoo\",\"encode/django-rest-framework\",\"CorentinJ/Real-Time-Voice-Cloning\",\"HelloZeroNet/ZeroNet\",\"nicolargo/glances\",\"reddit-archive/reddit\",\"psf/black\",\"sebastianruder/NLP-progress\",\"tensorflow/magenta\",\"celery/celery\",\"binux/pyspider\",\"ipython/ipython\",\"wangshub/wechat_jump_game\",\"huge-success/sanic\",\"tqdm/tqdm\",\"cool-RR/PySnooper\",\"spotify/luigi\",\"bokeh/bokeh\",\"iperov/DeepFaceLab\",\"nginx-proxy/nginx-proxy\",\"locustio/locust\",\"fabric/fabric\",\"youfou/wxpy\",\"cookiecutter/cookiecutter\",\"powerline/powerline\",\"zulip/zulip\",\"pjialin/py12306\",\"junyanz/pytorch-CycleGAN-and-pix2pix\",\"equinusocio/material-theme\",\"plotly/dash\",\"Kr1s77/awesome-python-login-model\",\"matplotlib/matplotlib\",\"wting/autojump\",\"tonybeltramelli/pix2code\",\"kivy/kivy\",\"sherlock-project/sherlock\",\"psf/requests-html\",\"saltstack/salt\",\"quantopian/zipline\",\"ray-project/ray\",\"RaRe-Technologies/gensim\",\"deezer/spleeter\",\"facebook/prophet\",\"google/yapf\",\"tiangolo/fastapi\",\"Miserlou/Zappa\",\"apachecn/awesome-algorithm\",\"warner/magic-wormhole\",\"davidsandberg/facenet\",\"Jack-Cherish/python-spider\",\"chubin/wttr.in\",\"alexjc/neural-enhance\",\"tzutalin/labelImg\",\"python-telegram-bot/python-telegram-bot\",\"tensorflow/tensor2tensor\",\"lra/mackup\",\"gunthercox/ChatterBot\",\"sovereign/sovereign\",\"jupyter/jupyter\",\"getpelican/pelican\",\"timgrossmann/InstaPy\",\"python-poetry/poetry\",\"tflearn/tflearn\",\"joke2k/faker\",\"laravel/laravel\",\"blueimp/jQuery-File-Upload\",\"fzaninotto/Faker\",\"danielmiessler/SecLists\",\"symfony/symfony\",\"composer/composer\",\"laravel/framework\",\"guzzle/guzzle\",\"domnikl/DesignPatternsPHP\",\"bcit-ci/CodeIgniter\",\"sebastianbergmann/phpunit\",\"PHPMailer/PHPMailer\",\"briannesbitt/Carbon\",\"WordPress/WordPress\",\"yiisoft/yii2\",\"matomo-org/matomo\",\"nikic/PHP-Parser\",\"erusev/parsedown\",\"getgrav/grav\",\"filp/whoops\",\"phacility/phabricator\",\"PHPOffice/PHPExcel\",\"phanan/koel\",\"thephpleague/flysystem\",\"CachetHQ/Cachet\",\"barryvdh/laravel-debugbar\",\"roots/sage\",\"Intervention/image\",\"slimphp/Slim\",\"vlucas/phpdotenv\",\"ramsey/uuid\",\"phalcon/cphalcon\",\"flarum/flarum\",\"nextcloud/server\",\"barryvdh/laravel-ide-helper\",\"octobercms/october\",\"monicahq/monica\",\"serbanghita/Mobile-Detect\",\"the-control-group/voyager\",\"mockery/mockery\",\"doctrine/inflector\",\"swiftmailer/swiftmailer\",\"tymondesigns/jwt-auth\",\"doctrine/lexer\",\"doctrine/instantiator\",\"dingo/api\",\"overtrue/wechat\",\"egulias/EmailValidator\",\"FriendsOfPHP/PHP-CS-Fixer\",\"php-fig/log\",\"bobthecow/psysh\",\"magento/magento2\",\"phpstan/phpstan\",\"Maatwebsite/Laravel-Excel\",\"walkor/Workerman\",\"php-fig/container\",\"cakephp/cakephp\",\"z-song/laravel-admin\",\"symfony/console\",\"phpspec/prophecy\",\"doctrine/orm\",\"squizlabs/PHP_CodeSniffer\",\"php-fig/simple-cache\",\"paragonie/random_compat\",\"top-think/think\",\"reactphp/reactphp\",\"symfony/http-foundation\",\"sebastianbergmann/php-code-coverage\",\"symfony/event-dispatcher\",\"myclabs/DeepCopy\",\"symfony/finder\",\"owncloud/core\",\"symfony/thanks\",\"symfony/http-kernel\",\"dompdf/dompdf\",\"twigphp/Twig\",\"doctrine/dbal\",\"symfony/polyfill-mbstring\",\"laravel/lumen\",\"googleapis/google-api-php-client\",\"guyueyingmu/avbook\",\"typecho/typecho\",\"fideloper/TrustedProxy\",\"symfony/routing\",\"symfony/process\",\"sebastianbergmann/php-timer\",\"sebastianbergmann/diff\",\"symfony/var-dumper\",\"Zizaco/entrust\",\"sebastianbergmann/php-token-stream\",\"laravel/tinker\",\"phar-io/manifest\",\"phar-io/version\",\"hamcrest/hamcrest-php\",\"php-pm/php-pm\",\"directus/directus\",\"DevinVinson/WordPress-Plugin-Boilerplate\",\"sebastianbergmann/comparator\",\"guzzle/promises\",\"JakubOnderka/PHP-Console-Highlighter\"],\"legendgroup\":\"\",\"marker\":{\"color\":\"#636efa\"},\"name\":\"\",\"notched\":false,\"offsetgroup\":\"\",\"orientation\":\"v\",\"showlegend\":false,\"type\":\"box\",\"x\":[\"javascript\",\"javascript\",\"javascript\",\"javascript\",\"javascript\",\"javascript\",\"javascript\",\"javascript\",\"javascript\",\"javascript\",\"javascript\",\"javascript\",\"javascript\",\"javascript\",\"javascript\",\"javascript\",\"javascript\",\"javascript\",\"javascript\",\"javascript\",\"javascript\",\"javascript\",\"javascript\",\"javascript\",\"javascript\",\"javascript\",\"javascript\",\"javascript\",\"javascript\",\"javascript\",\"javascript\",\"javascript\",\"javascript\",\"javascript\",\"javascript\",\"javascript\",\"javascript\",\"javascript\",\"javascript\",\"javascript\",\"javascript\",\"javascript\",\"javascript\",\"javascript\",\"javascript\",\"javascript\",\"javascript\",\"javascript\",\"javascript\",\"javascript\",\"javascript\",\"javascript\",\"javascript\",\"javascript\",\"javascript\",\"javascript\",\"javascript\",\"javascript\",\"javascript\",\"javascript\",\"javascript\",\"javascript\",\"javascript\",\"javascript\",\"javascript\",\"javascript\",\"javascript\",\"javascript\",\"javascript\",\"javascript\",\"javascript\",\"javascript\",\"javascript\",\"javascript\",\"javascript\",\"javascript\",\"javascript\",\"javascript\",\"javascript\",\"javascript\",\"javascript\",\"javascript\",\"javascript\",\"javascript\",\"javascript\",\"javascript\",\"javascript\",\"javascript\",\"javascript\",\"javascript\",\"javascript\",\"javascript\",\"javascript\",\"javascript\",\"javascript\",\"javascript\",\"javascript\",\"javascript\",\"javascript\",\"javascript\",\"java\",\"java\",\"java\",\"java\",\"java\",\"java\",\"java\",\"java\",\"java\",\"java\",\"java\",\"java\",\"java\",\"java\",\"java\",\"java\",\"java\",\"java\",\"java\",\"java\",\"java\",\"java\",\"java\",\"java\",\"java\",\"java\",\"java\",\"java\",\"java\",\"java\",\"java\",\"java\",\"java\",\"java\",\"java\",\"java\",\"java\",\"java\",\"java\",\"java\",\"java\",\"java\",\"java\",\"java\",\"java\",\"java\",\"java\",\"java\",\"java\",\"java\",\"java\",\"java\",\"java\",\"java\",\"java\",\"java\",\"java\",\"java\",\"java\",\"java\",\"java\",\"java\",\"java\",\"java\",\"java\",\"java\",\"java\",\"java\",\"java\",\"java\",\"java\",\"java\",\"java\",\"java\",\"java\",\"java\",\"java\",\"java\",\"java\",\"java\",\"java\",\"java\",\"java\",\"java\",\"java\",\"java\",\"java\",\"java\",\"java\",\"java\",\"java\",\"java\",\"java\",\"java\",\"java\",\"java\",\"java\",\"java\",\"java\",\"java\",\"cplusplus\",\"cplusplus\",\"cplusplus\",\"cplusplus\",\"cplusplus\",\"cplusplus\",\"cplusplus\",\"cplusplus\",\"cplusplus\",\"cplusplus\",\"cplusplus\",\"cplusplus\",\"cplusplus\",\"cplusplus\",\"cplusplus\",\"cplusplus\",\"cplusplus\",\"cplusplus\",\"cplusplus\",\"cplusplus\",\"cplusplus\",\"cplusplus\",\"cplusplus\",\"cplusplus\",\"cplusplus\",\"cplusplus\",\"cplusplus\",\"cplusplus\",\"cplusplus\",\"cplusplus\",\"cplusplus\",\"cplusplus\",\"cplusplus\",\"cplusplus\",\"cplusplus\",\"cplusplus\",\"cplusplus\",\"cplusplus\",\"cplusplus\",\"cplusplus\",\"cplusplus\",\"cplusplus\",\"cplusplus\",\"cplusplus\",\"cplusplus\",\"cplusplus\",\"cplusplus\",\"cplusplus\",\"cplusplus\",\"cplusplus\",\"cplusplus\",\"cplusplus\",\"cplusplus\",\"cplusplus\",\"cplusplus\",\"cplusplus\",\"cplusplus\",\"cplusplus\",\"cplusplus\",\"cplusplus\",\"cplusplus\",\"cplusplus\",\"cplusplus\",\"cplusplus\",\"cplusplus\",\"cplusplus\",\"cplusplus\",\"cplusplus\",\"cplusplus\",\"cplusplus\",\"cplusplus\",\"cplusplus\",\"cplusplus\",\"cplusplus\",\"cplusplus\",\"cplusplus\",\"cplusplus\",\"cplusplus\",\"cplusplus\",\"cplusplus\",\"cplusplus\",\"cplusplus\",\"cplusplus\",\"cplusplus\",\"cplusplus\",\"cplusplus\",\"cplusplus\",\"cplusplus\",\"cplusplus\",\"cplusplus\",\"cplusplus\",\"cplusplus\",\"cplusplus\",\"cplusplus\",\"cplusplus\",\"cplusplus\",\"cplusplus\",\"cplusplus\",\"cplusplus\",\"cplusplus\",\"python\",\"python\",\"python\",\"python\",\"python\",\"python\",\"python\",\"python\",\"python\",\"python\",\"python\",\"python\",\"python\",\"python\",\"python\",\"python\",\"python\",\"python\",\"python\",\"python\",\"python\",\"python\",\"python\",\"python\",\"python\",\"python\",\"python\",\"python\",\"python\",\"python\",\"python\",\"python\",\"python\",\"python\",\"python\",\"python\",\"python\",\"python\",\"python\",\"python\",\"python\",\"python\",\"python\",\"python\",\"python\",\"python\",\"python\",\"python\",\"python\",\"python\",\"python\",\"python\",\"python\",\"python\",\"python\",\"python\",\"python\",\"python\",\"python\",\"python\",\"python\",\"python\",\"python\",\"python\",\"python\",\"python\",\"python\",\"python\",\"python\",\"python\",\"python\",\"python\",\"python\",\"python\",\"python\",\"python\",\"python\",\"python\",\"python\",\"python\",\"python\",\"python\",\"python\",\"python\",\"python\",\"python\",\"python\",\"python\",\"python\",\"python\",\"python\",\"python\",\"python\",\"python\",\"python\",\"python\",\"python\",\"python\",\"python\",\"python\",\"php\",\"php\",\"php\",\"php\",\"php\",\"php\",\"php\",\"php\",\"php\",\"php\",\"php\",\"php\",\"php\",\"php\",\"php\",\"php\",\"php\",\"php\",\"php\",\"php\",\"php\",\"php\",\"php\",\"php\",\"php\",\"php\",\"php\",\"php\",\"php\",\"php\",\"php\",\"php\",\"php\",\"php\",\"php\",\"php\",\"php\",\"php\",\"php\",\"php\",\"php\",\"php\",\"php\",\"php\",\"php\",\"php\",\"php\",\"php\",\"php\",\"php\",\"php\",\"php\",\"php\",\"php\",\"php\",\"php\",\"php\",\"php\",\"php\",\"php\",\"php\",\"php\",\"php\",\"php\",\"php\",\"php\",\"php\",\"php\",\"php\",\"php\",\"php\",\"php\",\"php\",\"php\",\"php\",\"php\",\"php\",\"php\",\"php\",\"php\",\"php\",\"php\",\"php\",\"php\",\"php\",\"php\",\"php\",\"php\",\"php\",\"php\",\"php\",\"php\",\"php\",\"php\",\"php\",\"php\",\"php\",\"php\",\"php\",\"php\"],\"x0\":\" \",\"xaxis\":\"x\",\"y\":[1,4,2,1,14,4,1,15,6,2,3,3,1,3,4,1,1,2,1,3,1,3,3,1,2,1,2,11,4,2,2,5,2,1,5,1,2,4,5,1,1,3,1,1,6,1,1,2,1,1,1,1,2,1,1,2,1,5,2,3,2,1,2,3,2,1,2,5,3,1,1,3,2,2,1,7,4,2,1,2,1,2,1,2,1,1,2,2,1,2,1,1,7,1,1,3,4,2,2,1,17,2,1,2,3,4,1,3,1,1,1,1,1,1,2,1,3,1,1,1,1,1,1,2,1,1,2,1,2,2,2,1,3,1,2,13,3,6,2,4,1,14,1,1,1,2,2,1,2,4,3,2,2,1,1,5,1,2,1,1,2,1,9,3,1,2,2,1,1,1,1,2,1,3,2,1,2,3,1,3,2,1,1,1,13,1,16,1,1,1,1,3,3,1,1,2,1,1,1,1,3,3,2,8,4,7,7,28,1,3,5,2,2,8,4,4,2,1,1,1,4,4,1,27,10,4,1,7,12,6,2,1,21,3,12,1,6,1,7,2,1,5,1,8,1,1,1,2,4,2,6,27,2,1,2,1,8,1,1,3,5,3,1,2,4,3,2,4,5,1,1,2,2,1,1,2,1,1,2,1,3,2,2,1,1,1,1,2,2,2,4,1,1,1,2,2,1,3,10,1,3,3,2,9,1,1,4,3,13,3,1,5,1,1,16,1,1,4,7,5,1,5,2,1,3,1,4,1,1,3,18,1,1,2,1,1,27,1,1,1,2,4,2,2,3,1,1,3,2,6,1,1,15,2,1,1,1,1,1,2,1,6,1,1,1,4,1,6,2,1,2,1,1,11,3,13,7,2,1,1,1,2,2,1,1,1,1,1,1,3,4,1,1,4,1,3,6,1,1,6,1,1,13,2,3,2,2,1,2,2,1,1,1,10,5,3,1,1,2,1,1,2,1,1,1,1,2,1,1,1,1,1,2,6,3,1,2,1,3,2,1,2,1,3,1,1,2,1,3,1,1,2,1,1,1,1,3,1,5,2,5,1,1,1,1,3,3,1,3,2,1,5,1,3,2,2,3,1,1,2,1,1,1,3,4,1,2,1,3,1,2,1,2,2,2,1,1,2,1,1],\"y0\":\" \",\"yaxis\":\"y\"}],                        {\"boxmode\":\"group\",\"legend\":{\"tracegroupgap\":0},\"margin\":{\"t\":60},\"template\":{\"data\":{\"bar\":[{\"error_x\":{\"color\":\"#2a3f5f\"},\"error_y\":{\"color\":\"#2a3f5f\"},\"marker\":{\"line\":{\"color\":\"#E5ECF6\",\"width\":0.5},\"pattern\":{\"fillmode\":\"overlay\",\"size\":10,\"solidity\":0.2}},\"type\":\"bar\"}],\"barpolar\":[{\"marker\":{\"line\":{\"color\":\"#E5ECF6\",\"width\":0.5},\"pattern\":{\"fillmode\":\"overlay\",\"size\":10,\"solidity\":0.2}},\"type\":\"barpolar\"}],\"carpet\":[{\"aaxis\":{\"endlinecolor\":\"#2a3f5f\",\"gridcolor\":\"white\",\"linecolor\":\"white\",\"minorgridcolor\":\"white\",\"startlinecolor\":\"#2a3f5f\"},\"baxis\":{\"endlinecolor\":\"#2a3f5f\",\"gridcolor\":\"white\",\"linecolor\":\"white\",\"minorgridcolor\":\"white\",\"startlinecolor\":\"#2a3f5f\"},\"type\":\"carpet\"}],\"choropleth\":[{\"colorbar\":{\"outlinewidth\":0,\"ticks\":\"\"},\"type\":\"choropleth\"}],\"contour\":[{\"colorbar\":{\"outlinewidth\":0,\"ticks\":\"\"},\"colorscale\":[[0.0,\"#0d0887\"],[0.1111111111111111,\"#46039f\"],[0.2222222222222222,\"#7201a8\"],[0.3333333333333333,\"#9c179e\"],[0.4444444444444444,\"#bd3786\"],[0.5555555555555556,\"#d8576b\"],[0.6666666666666666,\"#ed7953\"],[0.7777777777777778,\"#fb9f3a\"],[0.8888888888888888,\"#fdca26\"],[1.0,\"#f0f921\"]],\"type\":\"contour\"}],\"contourcarpet\":[{\"colorbar\":{\"outlinewidth\":0,\"ticks\":\"\"},\"type\":\"contourcarpet\"}],\"heatmap\":[{\"colorbar\":{\"outlinewidth\":0,\"ticks\":\"\"},\"colorscale\":[[0.0,\"#0d0887\"],[0.1111111111111111,\"#46039f\"],[0.2222222222222222,\"#7201a8\"],[0.3333333333333333,\"#9c179e\"],[0.4444444444444444,\"#bd3786\"],[0.5555555555555556,\"#d8576b\"],[0.6666666666666666,\"#ed7953\"],[0.7777777777777778,\"#fb9f3a\"],[0.8888888888888888,\"#fdca26\"],[1.0,\"#f0f921\"]],\"type\":\"heatmap\"}],\"heatmapgl\":[{\"colorbar\":{\"outlinewidth\":0,\"ticks\":\"\"},\"colorscale\":[[0.0,\"#0d0887\"],[0.1111111111111111,\"#46039f\"],[0.2222222222222222,\"#7201a8\"],[0.3333333333333333,\"#9c179e\"],[0.4444444444444444,\"#bd3786\"],[0.5555555555555556,\"#d8576b\"],[0.6666666666666666,\"#ed7953\"],[0.7777777777777778,\"#fb9f3a\"],[0.8888888888888888,\"#fdca26\"],[1.0,\"#f0f921\"]],\"type\":\"heatmapgl\"}],\"histogram\":[{\"marker\":{\"pattern\":{\"fillmode\":\"overlay\",\"size\":10,\"solidity\":0.2}},\"type\":\"histogram\"}],\"histogram2d\":[{\"colorbar\":{\"outlinewidth\":0,\"ticks\":\"\"},\"colorscale\":[[0.0,\"#0d0887\"],[0.1111111111111111,\"#46039f\"],[0.2222222222222222,\"#7201a8\"],[0.3333333333333333,\"#9c179e\"],[0.4444444444444444,\"#bd3786\"],[0.5555555555555556,\"#d8576b\"],[0.6666666666666666,\"#ed7953\"],[0.7777777777777778,\"#fb9f3a\"],[0.8888888888888888,\"#fdca26\"],[1.0,\"#f0f921\"]],\"type\":\"histogram2d\"}],\"histogram2dcontour\":[{\"colorbar\":{\"outlinewidth\":0,\"ticks\":\"\"},\"colorscale\":[[0.0,\"#0d0887\"],[0.1111111111111111,\"#46039f\"],[0.2222222222222222,\"#7201a8\"],[0.3333333333333333,\"#9c179e\"],[0.4444444444444444,\"#bd3786\"],[0.5555555555555556,\"#d8576b\"],[0.6666666666666666,\"#ed7953\"],[0.7777777777777778,\"#fb9f3a\"],[0.8888888888888888,\"#fdca26\"],[1.0,\"#f0f921\"]],\"type\":\"histogram2dcontour\"}],\"mesh3d\":[{\"colorbar\":{\"outlinewidth\":0,\"ticks\":\"\"},\"type\":\"mesh3d\"}],\"parcoords\":[{\"line\":{\"colorbar\":{\"outlinewidth\":0,\"ticks\":\"\"}},\"type\":\"parcoords\"}],\"pie\":[{\"automargin\":true,\"type\":\"pie\"}],\"scatter\":[{\"marker\":{\"colorbar\":{\"outlinewidth\":0,\"ticks\":\"\"}},\"type\":\"scatter\"}],\"scatter3d\":[{\"line\":{\"colorbar\":{\"outlinewidth\":0,\"ticks\":\"\"}},\"marker\":{\"colorbar\":{\"outlinewidth\":0,\"ticks\":\"\"}},\"type\":\"scatter3d\"}],\"scattercarpet\":[{\"marker\":{\"colorbar\":{\"outlinewidth\":0,\"ticks\":\"\"}},\"type\":\"scattercarpet\"}],\"scattergeo\":[{\"marker\":{\"colorbar\":{\"outlinewidth\":0,\"ticks\":\"\"}},\"type\":\"scattergeo\"}],\"scattergl\":[{\"marker\":{\"colorbar\":{\"outlinewidth\":0,\"ticks\":\"\"}},\"type\":\"scattergl\"}],\"scattermapbox\":[{\"marker\":{\"colorbar\":{\"outlinewidth\":0,\"ticks\":\"\"}},\"type\":\"scattermapbox\"}],\"scatterpolar\":[{\"marker\":{\"colorbar\":{\"outlinewidth\":0,\"ticks\":\"\"}},\"type\":\"scatterpolar\"}],\"scatterpolargl\":[{\"marker\":{\"colorbar\":{\"outlinewidth\":0,\"ticks\":\"\"}},\"type\":\"scatterpolargl\"}],\"scatterternary\":[{\"marker\":{\"colorbar\":{\"outlinewidth\":0,\"ticks\":\"\"}},\"type\":\"scatterternary\"}],\"surface\":[{\"colorbar\":{\"outlinewidth\":0,\"ticks\":\"\"},\"colorscale\":[[0.0,\"#0d0887\"],[0.1111111111111111,\"#46039f\"],[0.2222222222222222,\"#7201a8\"],[0.3333333333333333,\"#9c179e\"],[0.4444444444444444,\"#bd3786\"],[0.5555555555555556,\"#d8576b\"],[0.6666666666666666,\"#ed7953\"],[0.7777777777777778,\"#fb9f3a\"],[0.8888888888888888,\"#fdca26\"],[1.0,\"#f0f921\"]],\"type\":\"surface\"}],\"table\":[{\"cells\":{\"fill\":{\"color\":\"#EBF0F8\"},\"line\":{\"color\":\"white\"}},\"header\":{\"fill\":{\"color\":\"#C8D4E3\"},\"line\":{\"color\":\"white\"}},\"type\":\"table\"}]},\"layout\":{\"annotationdefaults\":{\"arrowcolor\":\"#2a3f5f\",\"arrowhead\":0,\"arrowwidth\":1},\"autotypenumbers\":\"strict\",\"coloraxis\":{\"colorbar\":{\"outlinewidth\":0,\"ticks\":\"\"}},\"colorscale\":{\"diverging\":[[0,\"#8e0152\"],[0.1,\"#c51b7d\"],[0.2,\"#de77ae\"],[0.3,\"#f1b6da\"],[0.4,\"#fde0ef\"],[0.5,\"#f7f7f7\"],[0.6,\"#e6f5d0\"],[0.7,\"#b8e186\"],[0.8,\"#7fbc41\"],[0.9,\"#4d9221\"],[1,\"#276419\"]],\"sequential\":[[0.0,\"#0d0887\"],[0.1111111111111111,\"#46039f\"],[0.2222222222222222,\"#7201a8\"],[0.3333333333333333,\"#9c179e\"],[0.4444444444444444,\"#bd3786\"],[0.5555555555555556,\"#d8576b\"],[0.6666666666666666,\"#ed7953\"],[0.7777777777777778,\"#fb9f3a\"],[0.8888888888888888,\"#fdca26\"],[1.0,\"#f0f921\"]],\"sequentialminus\":[[0.0,\"#0d0887\"],[0.1111111111111111,\"#46039f\"],[0.2222222222222222,\"#7201a8\"],[0.3333333333333333,\"#9c179e\"],[0.4444444444444444,\"#bd3786\"],[0.5555555555555556,\"#d8576b\"],[0.6666666666666666,\"#ed7953\"],[0.7777777777777778,\"#fb9f3a\"],[0.8888888888888888,\"#fdca26\"],[1.0,\"#f0f921\"]]},\"colorway\":[\"#636efa\",\"#EF553B\",\"#00cc96\",\"#ab63fa\",\"#FFA15A\",\"#19d3f3\",\"#FF6692\",\"#B6E880\",\"#FF97FF\",\"#FECB52\"],\"font\":{\"color\":\"#2a3f5f\"},\"geo\":{\"bgcolor\":\"white\",\"lakecolor\":\"white\",\"landcolor\":\"#E5ECF6\",\"showlakes\":true,\"showland\":true,\"subunitcolor\":\"white\"},\"hoverlabel\":{\"align\":\"left\"},\"hovermode\":\"closest\",\"mapbox\":{\"style\":\"light\"},\"paper_bgcolor\":\"white\",\"plot_bgcolor\":\"#E5ECF6\",\"polar\":{\"angularaxis\":{\"gridcolor\":\"white\",\"linecolor\":\"white\",\"ticks\":\"\"},\"bgcolor\":\"#E5ECF6\",\"radialaxis\":{\"gridcolor\":\"white\",\"linecolor\":\"white\",\"ticks\":\"\"}},\"scene\":{\"xaxis\":{\"backgroundcolor\":\"#E5ECF6\",\"gridcolor\":\"white\",\"gridwidth\":2,\"linecolor\":\"white\",\"showbackground\":true,\"ticks\":\"\",\"zerolinecolor\":\"white\"},\"yaxis\":{\"backgroundcolor\":\"#E5ECF6\",\"gridcolor\":\"white\",\"gridwidth\":2,\"linecolor\":\"white\",\"showbackground\":true,\"ticks\":\"\",\"zerolinecolor\":\"white\"},\"zaxis\":{\"backgroundcolor\":\"#E5ECF6\",\"gridcolor\":\"white\",\"gridwidth\":2,\"linecolor\":\"white\",\"showbackground\":true,\"ticks\":\"\",\"zerolinecolor\":\"white\"}},\"shapedefaults\":{\"line\":{\"color\":\"#2a3f5f\"}},\"ternary\":{\"aaxis\":{\"gridcolor\":\"white\",\"linecolor\":\"white\",\"ticks\":\"\"},\"baxis\":{\"gridcolor\":\"white\",\"linecolor\":\"white\",\"ticks\":\"\"},\"bgcolor\":\"#E5ECF6\",\"caxis\":{\"gridcolor\":\"white\",\"linecolor\":\"white\",\"ticks\":\"\"}},\"title\":{\"x\":0.05},\"xaxis\":{\"automargin\":true,\"gridcolor\":\"white\",\"linecolor\":\"white\",\"ticks\":\"\",\"title\":{\"standoff\":15},\"zerolinecolor\":\"white\",\"zerolinewidth\":2},\"yaxis\":{\"automargin\":true,\"gridcolor\":\"white\",\"linecolor\":\"white\",\"ticks\":\"\",\"title\":{\"standoff\":15},\"zerolinecolor\":\"white\",\"zerolinewidth\":2}}},\"xaxis\":{\"anchor\":\"y\",\"categoryarray\":[\"cplusplus\",\"javascript\",\"python\",\"java\",\"php\"],\"categoryorder\":\"array\",\"domain\":[0.0,1.0],\"title\":{\"text\":\"Linguagem\"}},\"yaxis\":{\"anchor\":\"x\",\"domain\":[0.0,1.0],\"title\":{\"text\":\"TF\"}}},                        {\"responsive\": true}                    ).then(function(){\n",
       "                            \n",
       "var gd = document.getElementById('456bc363-65a6-49d8-bf58-35438c75f780');\n",
       "var x = new MutationObserver(function (mutations, observer) {{\n",
       "        var display = window.getComputedStyle(gd).display;\n",
       "        if (!display || display === 'none') {{\n",
       "            console.log([gd, 'removed!']);\n",
       "            Plotly.purge(gd);\n",
       "            observer.disconnect();\n",
       "        }}\n",
       "}});\n",
       "\n",
       "// Listen for the removal of the full notebook cells\n",
       "var notebookContainer = gd.closest('#notebook-container');\n",
       "if (notebookContainer) {{\n",
       "    x.observe(notebookContainer, {childList: true});\n",
       "}}\n",
       "\n",
       "// Listen for the clearing of the current output cell\n",
       "var outputEl = gd.closest('.output');\n",
       "if (outputEl) {{\n",
       "    x.observe(outputEl, {childList: true});\n",
       "}}\n",
       "\n",
       "                        })                };                });            </script>        </div>"
      ],
      "application/vnd.plotly.v1+json": {
       "config": {
        "plotlyServerURL": "https://plot.ly"
       },
       "data": [
        {
         "alignmentgroup": "True",
         "boxpoints": "all",
         "hovertemplate": "<b>%{hovertext}</b><br><br>Linguagem=%{x}<br>TF=%{y}<extra></extra>",
         "hovertext": [
          "vuejs/vue",
          "facebook/react",
          "twbs/bootstrap",
          "d3/d3",
          "facebook/react-native",
          "facebook/create-react-app",
          "axios/axios",
          "nodejs/node",
          "angular/angular.js",
          "puppeteer/puppeteer",
          "mrdoob/three.js",
          "mui-org/material-ui",
          "webpack/webpack",
          "jquery/jquery",
          "atom/atom",
          "hakimel/reveal.js",
          "socketio/socket.io",
          "expressjs/express",
          "Semantic-Org/Semantic-UI",
          "chartjs/Chart.js",
          "typicode/json-server",
          "zeit/next.js",
          "h5bp/html5-boilerplate",
          "adam-p/markdown-here",
          "resume/resume.github.com",
          "lodash/lodash",
          "moment/moment",
          "gatsbyjs/gatsby",
          "meteor/meteor",
          "apache/incubator-echarts",
          "ReactTraining/react-router",
          "yarnpkg/yarn",
          "Dogfalo/materialize",
          "nwjs/nw.js",
          "babel/babel",
          "impress/impress.js",
          "prettier/prettier",
          "parcel-bundler/parcel",
          "serverless/serverless",
          "juliangarnier/anime",
          "ColorlibHQ/AdminLTE",
          "TryGhost/Ghost",
          "Unitech/pm2",
          "gulpjs/gulp",
          "adobe/brackets",
          "sveltejs/svelte",
          "hexojs/hexo",
          "mozilla/pdf.js",
          "sahat/hackathon-starter",
          "alvarotrigo/fullPage.js",
          "immutable-js/immutable-js",
          "slatedocs/slate",
          "koajs/koa",
          "algorithm-visualizer/algorithm-visualizer",
          "mermaid-js/mermaid",
          "styled-components/styled-components",
          "zenorocha/clipboard.js",
          "apache/incubator-superset",
          "jashkenas/backbone",
          "videojs/video.js",
          "Leaflet/Leaflet",
          "photonstorm/phaser",
          "caolan/async",
          "tastejs/todomvc",
          "iamkun/dayjs",
          "quilljs/quill",
          "nuxt/nuxt.js",
          "RocketChat/Rocket.Chat",
          "preactjs/preact",
          "kenwheeler/slick",
          "jashkenas/underscore",
          "react-boilerplate/react-boilerplate",
          "nylas/nylas-mail",
          "vuejs/vue-cli",
          "select2/select2",
          "request/request",
          "Modernizr/Modernizr",
          "NervJS/taro",
          "standard/standard",
          "github/fetch",
          "carbon-app/carbon",
          "vuejs/vuex",
          "nolimits4web/swiper",
          "Marak/faker.js",
          "jiahaog/nativefier",
          "postcss/postcss",
          "strapi/strapi",
          "transloadit/uppy",
          "GitbookIO/gitbook",
          "markedjs/marked",
          "date-fns/date-fns",
          "lerna/lerna",
          "emberjs/ember.js",
          "webtorrent/webtorrent",
          "mobxjs/mobx",
          "cheeriojs/cheerio",
          "sequelize/sequelize",
          "balderdashy/sails",
          "ajaxorg/ace",
          "VincentGarreau/particles.js",
          "elastic/elasticsearch",
          "spring-projects/spring-boot",
          "ReactiveX/RxJava",
          "square/okhttp",
          "google/guava",
          "spring-projects/spring-framework",
          "square/retrofit",
          "apache/dubbo",
          "macrozheng/mall",
          "PhilJay/MPAndroidChart",
          "bumptech/glide",
          "airbnb/lottie-android",
          "proxyee-down-org/proxyee-down",
          "JakeWharton/butterknife",
          "zxing/zxing",
          "crossoverJie/JCSprout",
          "netty/netty",
          "greenrobot/EventBus",
          "skylot/jadx",
          "alibaba/fastjson",
          "alibaba/druid",
          "scwang90/SmartRefreshLayout",
          "NationalSecurityAgency/ghidra",
          "ctripcorp/apollo",
          "alibaba/arthas",
          "CymChad/BaseRecyclerViewAdapterHelper",
          "Netflix/Hystrix",
          "ReactiveX/RxAndroid",
          "google/gson",
          "square/picasso",
          "SeleniumHQ/selenium",
          "nostra13/Android-Universal-Image-Loader",
          "libgdx/libgdx",
          "chrisbanes/PhotoView",
          "facebook/fresco",
          "apache/kafka",
          "google/ExoPlayer",
          "jenkinsci/jenkins",
          "Tencent/tinker",
          "seata/seata",
          "lenve/vhr",
          "bazelbuild/bazel",
          "qiurunze123/miaosha",
          "DrKLO/Telegram",
          "CarGuo/GSYVideoPlayer",
          "halo-dev/halo",
          "didi/DoraemonKit",
          "lgvalle/Material-Animations",
          "xuxueli/xxl-job",
          "dianping/cat",
          "signalapp/Signal-Android",
          "alibaba/canal",
          "react-native-community/lottie-react-native",
          "openzipkin/zipkin",
          "EnterpriseQualityCoding/FizzBuzzEnterpriseEdition",
          "apache/skywalking",
          "brettwooldridge/HikariCP",
          "dbeaver/dbeaver",
          "redisson/redisson",
          "orhanobut/logger",
          "LMAX-Exchange/disruptor",
          "greenrobot/greenDAO",
          "oracle/graal",
          "alibaba/spring-cloud-alibaba",
          "facebook/stetho",
          "daimajia/AndroidSwipeLayout",
          "eclipse/deeplearning4j",
          "alibaba/ARouter",
          "linlinjava/litemall",
          "Curzibn/Luban",
          "Bigkoo/Android-PickerView",
          "wix/react-native-navigation",
          "jfeinstein10/SlidingMenu",
          "androidannotations/androidannotations",
          "Konloch/bytecode-viewer",
          "alibaba/Sentinel",
          "realm/realm-java",
          "eclipse-vertx/vert.x",
          "zhihu/Matisse",
          "alibaba/nacos",
          "Tencent/VasSonic",
          "Tamsiree/RxTool",
          "android-async-http/android-async-http",
          "apache/rocketmq",
          "prestodb/presto",
          "mockito/mockito",
          "apache/hadoop",
          "alibaba/vlayout",
          "Tencent/QMUI_Android",
          "zhangdaiscott/jeecg-boot",
          "looly/hutool",
          "arduino/Arduino",
          "naver/pinpoint",
          "jeasonlzy/okhttp-OkGo",
          "wasabeef/recyclerview-animators",
          "permissions-dispatcher/PermissionsDispatcher",
          "liaohuqiu/android-Ultra-Pull-To-Refresh",
          "iBotPeaches/Apktool",
          "H07000223/FlycoTabLayout",
          "ksoichiro/Android-ObservableScrollView",
          "tensorflow/tensorflow",
          "electron/electron",
          "microsoft/terminal",
          "apple/swift",
          "opencv/opencv",
          "bitcoin/bitcoin",
          "protocolbuffers/protobuf",
          "pytorch/pytorch",
          "x64dbg/x64dbg",
          "tesseract-ocr/tesseract",
          "BVLC/caffe",
          "godotengine/godot",
          "ariya/phantomjs",
          "grpc/grpc",
          "rethinkdb/rethinkdb",
          "cmderdev/cmder",
          "google/leveldb",
          "microsoft/calculator",
          "ocornut/imgui",
          "aria2/aria2",
          "emscripten-core/emscripten",
          "dmlc/xgboost",
          "nlohmann/json",
          "mongodb/mongo",
          "microsoft/CNTK",
          "osquery/osquery",
          "CMU-Perceptual-Computing-Lab/openpose",
          "facebook/rocksdb",
          "ApolloAuto/apollo",
          "microsoft/PowerToys",
          "swoole/swoole-src",
          "uglide/RedisDesktopManager",
          "v8/v8",
          "google/googletest",
          "facebook/folly",
          "commaai/openpilot",
          "cocos2d/cocos2d-x",
          "Tencent/mars",
          "google/flatbuffers",
          "apache/incubator-weex",
          "haoel/leetcode",
          "facebook/yoga",
          "sqlitebrowser/sqlitebrowser",
          "envoyproxy/envoy",
          "google/guetzli",
          "telegramdesktop/tdesktop",
          "uNetworking/uWebSockets",
          "vnpy/vnpy",
          "microsoft/react-native-windows",
          "catchorg/Catch2",
          "EOSIO/eos",
          "PaddlePaddle/Paddle",
          "microsoft/LightGBM",
          "notepad-plus-plus/notepad-plus-plus",
          "google/libphonenumber",
          "ValveSoftware/Proton",
          "xbmc/xbmc",
          "taichi-dev/taichi",
          "pqrs-org/Karabiner-Elements",
          "arendst/Tasmota",
          "ClickHouse/ClickHouse",
          "apple/foundationdb",
          "apache/incubator-brpc",
          "microsoft/AirSim",
          "yuzu-emu/yuzu",
          "SFTtech/openage",
          "apple/turicreate",
          "CRYTEK/CRYENGINE",
          "arangodb/arangodb",
          "openalpr/openalpr",
          "yangyangwithgnu/hardseed",
          "lemire/simdjson",
          "facebookresearch/faiss",
          "mobile-shell/mosh",
          "Tencent/rapidjson",
          "microsoft/napajs",
          "facebook/watchman",
          "davisking/dlib",
          "google/filament",
          "trojan-gfw/trojan",
          "qbittorrent/qBittorrent",
          "ShiqiYu/libfacedetection",
          "Tencent/ncnn",
          "ssloy/tinyrenderer",
          "aseprite/aseprite",
          "TarsCloud/Tars",
          "gabime/spdlog",
          "Studio3T/robomongo",
          "diasurgical/devilution",
          "OpenRCT2/OpenRCT2",
          "ethereum/solidity",
          "zealdocs/zeal",
          "acaudwell/Gource",
          "shadowsocks/shadowsocks-qt5",
          "openframeworks/openFrameworks",
          "CoatiSoftware/Sourcetrail",
          "ossrs/srs",
          "RPCS3/rpcs3",
          "ceph/ceph",
          "bkaradzic/bgfx",
          "ytdl-org/youtube-dl",
          "nvbn/thefuck",
          "pallets/flask",
          "django/django",
          "keras-team/keras",
          "jakubroztocil/httpie",
          "ansible/ansible",
          "psf/requests",
          "scikit-learn/scikit-learn",
          "scrapy/scrapy",
          "ageitgey/face_recognition",
          "home-assistant/core",
          "soimort/you-get",
          "XX-net/XX-Net",
          "python/cpython",
          "deepfakes/faceswap",
          "testerSunshine/12306",
          "certbot/certbot",
          "getsentry/sentry",
          "pandas-dev/pandas",
          "localstack/localstack",
          "huggingface/transformers",
          "facebookresearch/Detectron",
          "fxsjy/jieba",
          "ycm-core/YouCompleteMe",
          "littlecodersh/ItChat",
          "openai/gym",
          "pypa/pipenv",
          "tornadoweb/tornado",
          "docker/compose",
          "apache/incubator-mxnet",
          "chubin/cheat.sh",
          "hankcs/HanLP",
          "mitmproxy/mitmproxy",
          "trailofbits/algo",
          "3b1b/manim",
          "odoo/odoo",
          "encode/django-rest-framework",
          "CorentinJ/Real-Time-Voice-Cloning",
          "HelloZeroNet/ZeroNet",
          "nicolargo/glances",
          "reddit-archive/reddit",
          "psf/black",
          "sebastianruder/NLP-progress",
          "tensorflow/magenta",
          "celery/celery",
          "binux/pyspider",
          "ipython/ipython",
          "wangshub/wechat_jump_game",
          "huge-success/sanic",
          "tqdm/tqdm",
          "cool-RR/PySnooper",
          "spotify/luigi",
          "bokeh/bokeh",
          "iperov/DeepFaceLab",
          "nginx-proxy/nginx-proxy",
          "locustio/locust",
          "fabric/fabric",
          "youfou/wxpy",
          "cookiecutter/cookiecutter",
          "powerline/powerline",
          "zulip/zulip",
          "pjialin/py12306",
          "junyanz/pytorch-CycleGAN-and-pix2pix",
          "equinusocio/material-theme",
          "plotly/dash",
          "Kr1s77/awesome-python-login-model",
          "matplotlib/matplotlib",
          "wting/autojump",
          "tonybeltramelli/pix2code",
          "kivy/kivy",
          "sherlock-project/sherlock",
          "psf/requests-html",
          "saltstack/salt",
          "quantopian/zipline",
          "ray-project/ray",
          "RaRe-Technologies/gensim",
          "deezer/spleeter",
          "facebook/prophet",
          "google/yapf",
          "tiangolo/fastapi",
          "Miserlou/Zappa",
          "apachecn/awesome-algorithm",
          "warner/magic-wormhole",
          "davidsandberg/facenet",
          "Jack-Cherish/python-spider",
          "chubin/wttr.in",
          "alexjc/neural-enhance",
          "tzutalin/labelImg",
          "python-telegram-bot/python-telegram-bot",
          "tensorflow/tensor2tensor",
          "lra/mackup",
          "gunthercox/ChatterBot",
          "sovereign/sovereign",
          "jupyter/jupyter",
          "getpelican/pelican",
          "timgrossmann/InstaPy",
          "python-poetry/poetry",
          "tflearn/tflearn",
          "joke2k/faker",
          "laravel/laravel",
          "blueimp/jQuery-File-Upload",
          "fzaninotto/Faker",
          "danielmiessler/SecLists",
          "symfony/symfony",
          "composer/composer",
          "laravel/framework",
          "guzzle/guzzle",
          "domnikl/DesignPatternsPHP",
          "bcit-ci/CodeIgniter",
          "sebastianbergmann/phpunit",
          "PHPMailer/PHPMailer",
          "briannesbitt/Carbon",
          "WordPress/WordPress",
          "yiisoft/yii2",
          "matomo-org/matomo",
          "nikic/PHP-Parser",
          "erusev/parsedown",
          "getgrav/grav",
          "filp/whoops",
          "phacility/phabricator",
          "PHPOffice/PHPExcel",
          "phanan/koel",
          "thephpleague/flysystem",
          "CachetHQ/Cachet",
          "barryvdh/laravel-debugbar",
          "roots/sage",
          "Intervention/image",
          "slimphp/Slim",
          "vlucas/phpdotenv",
          "ramsey/uuid",
          "phalcon/cphalcon",
          "flarum/flarum",
          "nextcloud/server",
          "barryvdh/laravel-ide-helper",
          "octobercms/october",
          "monicahq/monica",
          "serbanghita/Mobile-Detect",
          "the-control-group/voyager",
          "mockery/mockery",
          "doctrine/inflector",
          "swiftmailer/swiftmailer",
          "tymondesigns/jwt-auth",
          "doctrine/lexer",
          "doctrine/instantiator",
          "dingo/api",
          "overtrue/wechat",
          "egulias/EmailValidator",
          "FriendsOfPHP/PHP-CS-Fixer",
          "php-fig/log",
          "bobthecow/psysh",
          "magento/magento2",
          "phpstan/phpstan",
          "Maatwebsite/Laravel-Excel",
          "walkor/Workerman",
          "php-fig/container",
          "cakephp/cakephp",
          "z-song/laravel-admin",
          "symfony/console",
          "phpspec/prophecy",
          "doctrine/orm",
          "squizlabs/PHP_CodeSniffer",
          "php-fig/simple-cache",
          "paragonie/random_compat",
          "top-think/think",
          "reactphp/reactphp",
          "symfony/http-foundation",
          "sebastianbergmann/php-code-coverage",
          "symfony/event-dispatcher",
          "myclabs/DeepCopy",
          "symfony/finder",
          "owncloud/core",
          "symfony/thanks",
          "symfony/http-kernel",
          "dompdf/dompdf",
          "twigphp/Twig",
          "doctrine/dbal",
          "symfony/polyfill-mbstring",
          "laravel/lumen",
          "googleapis/google-api-php-client",
          "guyueyingmu/avbook",
          "typecho/typecho",
          "fideloper/TrustedProxy",
          "symfony/routing",
          "symfony/process",
          "sebastianbergmann/php-timer",
          "sebastianbergmann/diff",
          "symfony/var-dumper",
          "Zizaco/entrust",
          "sebastianbergmann/php-token-stream",
          "laravel/tinker",
          "phar-io/manifest",
          "phar-io/version",
          "hamcrest/hamcrest-php",
          "php-pm/php-pm",
          "directus/directus",
          "DevinVinson/WordPress-Plugin-Boilerplate",
          "sebastianbergmann/comparator",
          "guzzle/promises",
          "JakubOnderka/PHP-Console-Highlighter"
         ],
         "legendgroup": "",
         "marker": {
          "color": "#636efa"
         },
         "name": "",
         "notched": false,
         "offsetgroup": "",
         "orientation": "v",
         "showlegend": false,
         "type": "box",
         "x": [
          "javascript",
          "javascript",
          "javascript",
          "javascript",
          "javascript",
          "javascript",
          "javascript",
          "javascript",
          "javascript",
          "javascript",
          "javascript",
          "javascript",
          "javascript",
          "javascript",
          "javascript",
          "javascript",
          "javascript",
          "javascript",
          "javascript",
          "javascript",
          "javascript",
          "javascript",
          "javascript",
          "javascript",
          "javascript",
          "javascript",
          "javascript",
          "javascript",
          "javascript",
          "javascript",
          "javascript",
          "javascript",
          "javascript",
          "javascript",
          "javascript",
          "javascript",
          "javascript",
          "javascript",
          "javascript",
          "javascript",
          "javascript",
          "javascript",
          "javascript",
          "javascript",
          "javascript",
          "javascript",
          "javascript",
          "javascript",
          "javascript",
          "javascript",
          "javascript",
          "javascript",
          "javascript",
          "javascript",
          "javascript",
          "javascript",
          "javascript",
          "javascript",
          "javascript",
          "javascript",
          "javascript",
          "javascript",
          "javascript",
          "javascript",
          "javascript",
          "javascript",
          "javascript",
          "javascript",
          "javascript",
          "javascript",
          "javascript",
          "javascript",
          "javascript",
          "javascript",
          "javascript",
          "javascript",
          "javascript",
          "javascript",
          "javascript",
          "javascript",
          "javascript",
          "javascript",
          "javascript",
          "javascript",
          "javascript",
          "javascript",
          "javascript",
          "javascript",
          "javascript",
          "javascript",
          "javascript",
          "javascript",
          "javascript",
          "javascript",
          "javascript",
          "javascript",
          "javascript",
          "javascript",
          "javascript",
          "javascript",
          "java",
          "java",
          "java",
          "java",
          "java",
          "java",
          "java",
          "java",
          "java",
          "java",
          "java",
          "java",
          "java",
          "java",
          "java",
          "java",
          "java",
          "java",
          "java",
          "java",
          "java",
          "java",
          "java",
          "java",
          "java",
          "java",
          "java",
          "java",
          "java",
          "java",
          "java",
          "java",
          "java",
          "java",
          "java",
          "java",
          "java",
          "java",
          "java",
          "java",
          "java",
          "java",
          "java",
          "java",
          "java",
          "java",
          "java",
          "java",
          "java",
          "java",
          "java",
          "java",
          "java",
          "java",
          "java",
          "java",
          "java",
          "java",
          "java",
          "java",
          "java",
          "java",
          "java",
          "java",
          "java",
          "java",
          "java",
          "java",
          "java",
          "java",
          "java",
          "java",
          "java",
          "java",
          "java",
          "java",
          "java",
          "java",
          "java",
          "java",
          "java",
          "java",
          "java",
          "java",
          "java",
          "java",
          "java",
          "java",
          "java",
          "java",
          "java",
          "java",
          "java",
          "java",
          "java",
          "java",
          "java",
          "java",
          "java",
          "java",
          "cplusplus",
          "cplusplus",
          "cplusplus",
          "cplusplus",
          "cplusplus",
          "cplusplus",
          "cplusplus",
          "cplusplus",
          "cplusplus",
          "cplusplus",
          "cplusplus",
          "cplusplus",
          "cplusplus",
          "cplusplus",
          "cplusplus",
          "cplusplus",
          "cplusplus",
          "cplusplus",
          "cplusplus",
          "cplusplus",
          "cplusplus",
          "cplusplus",
          "cplusplus",
          "cplusplus",
          "cplusplus",
          "cplusplus",
          "cplusplus",
          "cplusplus",
          "cplusplus",
          "cplusplus",
          "cplusplus",
          "cplusplus",
          "cplusplus",
          "cplusplus",
          "cplusplus",
          "cplusplus",
          "cplusplus",
          "cplusplus",
          "cplusplus",
          "cplusplus",
          "cplusplus",
          "cplusplus",
          "cplusplus",
          "cplusplus",
          "cplusplus",
          "cplusplus",
          "cplusplus",
          "cplusplus",
          "cplusplus",
          "cplusplus",
          "cplusplus",
          "cplusplus",
          "cplusplus",
          "cplusplus",
          "cplusplus",
          "cplusplus",
          "cplusplus",
          "cplusplus",
          "cplusplus",
          "cplusplus",
          "cplusplus",
          "cplusplus",
          "cplusplus",
          "cplusplus",
          "cplusplus",
          "cplusplus",
          "cplusplus",
          "cplusplus",
          "cplusplus",
          "cplusplus",
          "cplusplus",
          "cplusplus",
          "cplusplus",
          "cplusplus",
          "cplusplus",
          "cplusplus",
          "cplusplus",
          "cplusplus",
          "cplusplus",
          "cplusplus",
          "cplusplus",
          "cplusplus",
          "cplusplus",
          "cplusplus",
          "cplusplus",
          "cplusplus",
          "cplusplus",
          "cplusplus",
          "cplusplus",
          "cplusplus",
          "cplusplus",
          "cplusplus",
          "cplusplus",
          "cplusplus",
          "cplusplus",
          "cplusplus",
          "cplusplus",
          "cplusplus",
          "cplusplus",
          "cplusplus",
          "python",
          "python",
          "python",
          "python",
          "python",
          "python",
          "python",
          "python",
          "python",
          "python",
          "python",
          "python",
          "python",
          "python",
          "python",
          "python",
          "python",
          "python",
          "python",
          "python",
          "python",
          "python",
          "python",
          "python",
          "python",
          "python",
          "python",
          "python",
          "python",
          "python",
          "python",
          "python",
          "python",
          "python",
          "python",
          "python",
          "python",
          "python",
          "python",
          "python",
          "python",
          "python",
          "python",
          "python",
          "python",
          "python",
          "python",
          "python",
          "python",
          "python",
          "python",
          "python",
          "python",
          "python",
          "python",
          "python",
          "python",
          "python",
          "python",
          "python",
          "python",
          "python",
          "python",
          "python",
          "python",
          "python",
          "python",
          "python",
          "python",
          "python",
          "python",
          "python",
          "python",
          "python",
          "python",
          "python",
          "python",
          "python",
          "python",
          "python",
          "python",
          "python",
          "python",
          "python",
          "python",
          "python",
          "python",
          "python",
          "python",
          "python",
          "python",
          "python",
          "python",
          "python",
          "python",
          "python",
          "python",
          "python",
          "python",
          "python",
          "php",
          "php",
          "php",
          "php",
          "php",
          "php",
          "php",
          "php",
          "php",
          "php",
          "php",
          "php",
          "php",
          "php",
          "php",
          "php",
          "php",
          "php",
          "php",
          "php",
          "php",
          "php",
          "php",
          "php",
          "php",
          "php",
          "php",
          "php",
          "php",
          "php",
          "php",
          "php",
          "php",
          "php",
          "php",
          "php",
          "php",
          "php",
          "php",
          "php",
          "php",
          "php",
          "php",
          "php",
          "php",
          "php",
          "php",
          "php",
          "php",
          "php",
          "php",
          "php",
          "php",
          "php",
          "php",
          "php",
          "php",
          "php",
          "php",
          "php",
          "php",
          "php",
          "php",
          "php",
          "php",
          "php",
          "php",
          "php",
          "php",
          "php",
          "php",
          "php",
          "php",
          "php",
          "php",
          "php",
          "php",
          "php",
          "php",
          "php",
          "php",
          "php",
          "php",
          "php",
          "php",
          "php",
          "php",
          "php",
          "php",
          "php",
          "php",
          "php",
          "php",
          "php",
          "php",
          "php",
          "php",
          "php",
          "php",
          "php"
         ],
         "x0": " ",
         "xaxis": "x",
         "y": [
          1,
          4,
          2,
          1,
          14,
          4,
          1,
          15,
          6,
          2,
          3,
          3,
          1,
          3,
          4,
          1,
          1,
          2,
          1,
          3,
          1,
          3,
          3,
          1,
          2,
          1,
          2,
          11,
          4,
          2,
          2,
          5,
          2,
          1,
          5,
          1,
          2,
          4,
          5,
          1,
          1,
          3,
          1,
          1,
          6,
          1,
          1,
          2,
          1,
          1,
          1,
          1,
          2,
          1,
          1,
          2,
          1,
          5,
          2,
          3,
          2,
          1,
          2,
          3,
          2,
          1,
          2,
          5,
          3,
          1,
          1,
          3,
          2,
          2,
          1,
          7,
          4,
          2,
          1,
          2,
          1,
          2,
          1,
          2,
          1,
          1,
          2,
          2,
          1,
          2,
          1,
          1,
          7,
          1,
          1,
          3,
          4,
          2,
          2,
          1,
          17,
          2,
          1,
          2,
          3,
          4,
          1,
          3,
          1,
          1,
          1,
          1,
          1,
          1,
          2,
          1,
          3,
          1,
          1,
          1,
          1,
          1,
          1,
          2,
          1,
          1,
          2,
          1,
          2,
          2,
          2,
          1,
          3,
          1,
          2,
          13,
          3,
          6,
          2,
          4,
          1,
          14,
          1,
          1,
          1,
          2,
          2,
          1,
          2,
          4,
          3,
          2,
          2,
          1,
          1,
          5,
          1,
          2,
          1,
          1,
          2,
          1,
          9,
          3,
          1,
          2,
          2,
          1,
          1,
          1,
          1,
          2,
          1,
          3,
          2,
          1,
          2,
          3,
          1,
          3,
          2,
          1,
          1,
          1,
          13,
          1,
          16,
          1,
          1,
          1,
          1,
          3,
          3,
          1,
          1,
          2,
          1,
          1,
          1,
          1,
          3,
          3,
          2,
          8,
          4,
          7,
          7,
          28,
          1,
          3,
          5,
          2,
          2,
          8,
          4,
          4,
          2,
          1,
          1,
          1,
          4,
          4,
          1,
          27,
          10,
          4,
          1,
          7,
          12,
          6,
          2,
          1,
          21,
          3,
          12,
          1,
          6,
          1,
          7,
          2,
          1,
          5,
          1,
          8,
          1,
          1,
          1,
          2,
          4,
          2,
          6,
          27,
          2,
          1,
          2,
          1,
          8,
          1,
          1,
          3,
          5,
          3,
          1,
          2,
          4,
          3,
          2,
          4,
          5,
          1,
          1,
          2,
          2,
          1,
          1,
          2,
          1,
          1,
          2,
          1,
          3,
          2,
          2,
          1,
          1,
          1,
          1,
          2,
          2,
          2,
          4,
          1,
          1,
          1,
          2,
          2,
          1,
          3,
          10,
          1,
          3,
          3,
          2,
          9,
          1,
          1,
          4,
          3,
          13,
          3,
          1,
          5,
          1,
          1,
          16,
          1,
          1,
          4,
          7,
          5,
          1,
          5,
          2,
          1,
          3,
          1,
          4,
          1,
          1,
          3,
          18,
          1,
          1,
          2,
          1,
          1,
          27,
          1,
          1,
          1,
          2,
          4,
          2,
          2,
          3,
          1,
          1,
          3,
          2,
          6,
          1,
          1,
          15,
          2,
          1,
          1,
          1,
          1,
          1,
          2,
          1,
          6,
          1,
          1,
          1,
          4,
          1,
          6,
          2,
          1,
          2,
          1,
          1,
          11,
          3,
          13,
          7,
          2,
          1,
          1,
          1,
          2,
          2,
          1,
          1,
          1,
          1,
          1,
          1,
          3,
          4,
          1,
          1,
          4,
          1,
          3,
          6,
          1,
          1,
          6,
          1,
          1,
          13,
          2,
          3,
          2,
          2,
          1,
          2,
          2,
          1,
          1,
          1,
          10,
          5,
          3,
          1,
          1,
          2,
          1,
          1,
          2,
          1,
          1,
          1,
          1,
          2,
          1,
          1,
          1,
          1,
          1,
          2,
          6,
          3,
          1,
          2,
          1,
          3,
          2,
          1,
          2,
          1,
          3,
          1,
          1,
          2,
          1,
          3,
          1,
          1,
          2,
          1,
          1,
          1,
          1,
          3,
          1,
          5,
          2,
          5,
          1,
          1,
          1,
          1,
          3,
          3,
          1,
          3,
          2,
          1,
          5,
          1,
          3,
          2,
          2,
          3,
          1,
          1,
          2,
          1,
          1,
          1,
          3,
          4,
          1,
          2,
          1,
          3,
          1,
          2,
          1,
          2,
          2,
          2,
          1,
          1,
          2,
          1,
          1
         ],
         "y0": " ",
         "yaxis": "y"
        }
       ],
       "layout": {
        "boxmode": "group",
        "legend": {
         "tracegroupgap": 0
        },
        "margin": {
         "t": 60
        },
        "template": {
         "data": {
          "bar": [
           {
            "error_x": {
             "color": "#2a3f5f"
            },
            "error_y": {
             "color": "#2a3f5f"
            },
            "marker": {
             "line": {
              "color": "#E5ECF6",
              "width": 0.5
             },
             "pattern": {
              "fillmode": "overlay",
              "size": 10,
              "solidity": 0.2
             }
            },
            "type": "bar"
           }
          ],
          "barpolar": [
           {
            "marker": {
             "line": {
              "color": "#E5ECF6",
              "width": 0.5
             },
             "pattern": {
              "fillmode": "overlay",
              "size": 10,
              "solidity": 0.2
             }
            },
            "type": "barpolar"
           }
          ],
          "carpet": [
           {
            "aaxis": {
             "endlinecolor": "#2a3f5f",
             "gridcolor": "white",
             "linecolor": "white",
             "minorgridcolor": "white",
             "startlinecolor": "#2a3f5f"
            },
            "baxis": {
             "endlinecolor": "#2a3f5f",
             "gridcolor": "white",
             "linecolor": "white",
             "minorgridcolor": "white",
             "startlinecolor": "#2a3f5f"
            },
            "type": "carpet"
           }
          ],
          "choropleth": [
           {
            "colorbar": {
             "outlinewidth": 0,
             "ticks": ""
            },
            "type": "choropleth"
           }
          ],
          "contour": [
           {
            "colorbar": {
             "outlinewidth": 0,
             "ticks": ""
            },
            "colorscale": [
             [
              0,
              "#0d0887"
             ],
             [
              0.1111111111111111,
              "#46039f"
             ],
             [
              0.2222222222222222,
              "#7201a8"
             ],
             [
              0.3333333333333333,
              "#9c179e"
             ],
             [
              0.4444444444444444,
              "#bd3786"
             ],
             [
              0.5555555555555556,
              "#d8576b"
             ],
             [
              0.6666666666666666,
              "#ed7953"
             ],
             [
              0.7777777777777778,
              "#fb9f3a"
             ],
             [
              0.8888888888888888,
              "#fdca26"
             ],
             [
              1,
              "#f0f921"
             ]
            ],
            "type": "contour"
           }
          ],
          "contourcarpet": [
           {
            "colorbar": {
             "outlinewidth": 0,
             "ticks": ""
            },
            "type": "contourcarpet"
           }
          ],
          "heatmap": [
           {
            "colorbar": {
             "outlinewidth": 0,
             "ticks": ""
            },
            "colorscale": [
             [
              0,
              "#0d0887"
             ],
             [
              0.1111111111111111,
              "#46039f"
             ],
             [
              0.2222222222222222,
              "#7201a8"
             ],
             [
              0.3333333333333333,
              "#9c179e"
             ],
             [
              0.4444444444444444,
              "#bd3786"
             ],
             [
              0.5555555555555556,
              "#d8576b"
             ],
             [
              0.6666666666666666,
              "#ed7953"
             ],
             [
              0.7777777777777778,
              "#fb9f3a"
             ],
             [
              0.8888888888888888,
              "#fdca26"
             ],
             [
              1,
              "#f0f921"
             ]
            ],
            "type": "heatmap"
           }
          ],
          "heatmapgl": [
           {
            "colorbar": {
             "outlinewidth": 0,
             "ticks": ""
            },
            "colorscale": [
             [
              0,
              "#0d0887"
             ],
             [
              0.1111111111111111,
              "#46039f"
             ],
             [
              0.2222222222222222,
              "#7201a8"
             ],
             [
              0.3333333333333333,
              "#9c179e"
             ],
             [
              0.4444444444444444,
              "#bd3786"
             ],
             [
              0.5555555555555556,
              "#d8576b"
             ],
             [
              0.6666666666666666,
              "#ed7953"
             ],
             [
              0.7777777777777778,
              "#fb9f3a"
             ],
             [
              0.8888888888888888,
              "#fdca26"
             ],
             [
              1,
              "#f0f921"
             ]
            ],
            "type": "heatmapgl"
           }
          ],
          "histogram": [
           {
            "marker": {
             "pattern": {
              "fillmode": "overlay",
              "size": 10,
              "solidity": 0.2
             }
            },
            "type": "histogram"
           }
          ],
          "histogram2d": [
           {
            "colorbar": {
             "outlinewidth": 0,
             "ticks": ""
            },
            "colorscale": [
             [
              0,
              "#0d0887"
             ],
             [
              0.1111111111111111,
              "#46039f"
             ],
             [
              0.2222222222222222,
              "#7201a8"
             ],
             [
              0.3333333333333333,
              "#9c179e"
             ],
             [
              0.4444444444444444,
              "#bd3786"
             ],
             [
              0.5555555555555556,
              "#d8576b"
             ],
             [
              0.6666666666666666,
              "#ed7953"
             ],
             [
              0.7777777777777778,
              "#fb9f3a"
             ],
             [
              0.8888888888888888,
              "#fdca26"
             ],
             [
              1,
              "#f0f921"
             ]
            ],
            "type": "histogram2d"
           }
          ],
          "histogram2dcontour": [
           {
            "colorbar": {
             "outlinewidth": 0,
             "ticks": ""
            },
            "colorscale": [
             [
              0,
              "#0d0887"
             ],
             [
              0.1111111111111111,
              "#46039f"
             ],
             [
              0.2222222222222222,
              "#7201a8"
             ],
             [
              0.3333333333333333,
              "#9c179e"
             ],
             [
              0.4444444444444444,
              "#bd3786"
             ],
             [
              0.5555555555555556,
              "#d8576b"
             ],
             [
              0.6666666666666666,
              "#ed7953"
             ],
             [
              0.7777777777777778,
              "#fb9f3a"
             ],
             [
              0.8888888888888888,
              "#fdca26"
             ],
             [
              1,
              "#f0f921"
             ]
            ],
            "type": "histogram2dcontour"
           }
          ],
          "mesh3d": [
           {
            "colorbar": {
             "outlinewidth": 0,
             "ticks": ""
            },
            "type": "mesh3d"
           }
          ],
          "parcoords": [
           {
            "line": {
             "colorbar": {
              "outlinewidth": 0,
              "ticks": ""
             }
            },
            "type": "parcoords"
           }
          ],
          "pie": [
           {
            "automargin": true,
            "type": "pie"
           }
          ],
          "scatter": [
           {
            "marker": {
             "colorbar": {
              "outlinewidth": 0,
              "ticks": ""
             }
            },
            "type": "scatter"
           }
          ],
          "scatter3d": [
           {
            "line": {
             "colorbar": {
              "outlinewidth": 0,
              "ticks": ""
             }
            },
            "marker": {
             "colorbar": {
              "outlinewidth": 0,
              "ticks": ""
             }
            },
            "type": "scatter3d"
           }
          ],
          "scattercarpet": [
           {
            "marker": {
             "colorbar": {
              "outlinewidth": 0,
              "ticks": ""
             }
            },
            "type": "scattercarpet"
           }
          ],
          "scattergeo": [
           {
            "marker": {
             "colorbar": {
              "outlinewidth": 0,
              "ticks": ""
             }
            },
            "type": "scattergeo"
           }
          ],
          "scattergl": [
           {
            "marker": {
             "colorbar": {
              "outlinewidth": 0,
              "ticks": ""
             }
            },
            "type": "scattergl"
           }
          ],
          "scattermapbox": [
           {
            "marker": {
             "colorbar": {
              "outlinewidth": 0,
              "ticks": ""
             }
            },
            "type": "scattermapbox"
           }
          ],
          "scatterpolar": [
           {
            "marker": {
             "colorbar": {
              "outlinewidth": 0,
              "ticks": ""
             }
            },
            "type": "scatterpolar"
           }
          ],
          "scatterpolargl": [
           {
            "marker": {
             "colorbar": {
              "outlinewidth": 0,
              "ticks": ""
             }
            },
            "type": "scatterpolargl"
           }
          ],
          "scatterternary": [
           {
            "marker": {
             "colorbar": {
              "outlinewidth": 0,
              "ticks": ""
             }
            },
            "type": "scatterternary"
           }
          ],
          "surface": [
           {
            "colorbar": {
             "outlinewidth": 0,
             "ticks": ""
            },
            "colorscale": [
             [
              0,
              "#0d0887"
             ],
             [
              0.1111111111111111,
              "#46039f"
             ],
             [
              0.2222222222222222,
              "#7201a8"
             ],
             [
              0.3333333333333333,
              "#9c179e"
             ],
             [
              0.4444444444444444,
              "#bd3786"
             ],
             [
              0.5555555555555556,
              "#d8576b"
             ],
             [
              0.6666666666666666,
              "#ed7953"
             ],
             [
              0.7777777777777778,
              "#fb9f3a"
             ],
             [
              0.8888888888888888,
              "#fdca26"
             ],
             [
              1,
              "#f0f921"
             ]
            ],
            "type": "surface"
           }
          ],
          "table": [
           {
            "cells": {
             "fill": {
              "color": "#EBF0F8"
             },
             "line": {
              "color": "white"
             }
            },
            "header": {
             "fill": {
              "color": "#C8D4E3"
             },
             "line": {
              "color": "white"
             }
            },
            "type": "table"
           }
          ]
         },
         "layout": {
          "annotationdefaults": {
           "arrowcolor": "#2a3f5f",
           "arrowhead": 0,
           "arrowwidth": 1
          },
          "autotypenumbers": "strict",
          "coloraxis": {
           "colorbar": {
            "outlinewidth": 0,
            "ticks": ""
           }
          },
          "colorscale": {
           "diverging": [
            [
             0,
             "#8e0152"
            ],
            [
             0.1,
             "#c51b7d"
            ],
            [
             0.2,
             "#de77ae"
            ],
            [
             0.3,
             "#f1b6da"
            ],
            [
             0.4,
             "#fde0ef"
            ],
            [
             0.5,
             "#f7f7f7"
            ],
            [
             0.6,
             "#e6f5d0"
            ],
            [
             0.7,
             "#b8e186"
            ],
            [
             0.8,
             "#7fbc41"
            ],
            [
             0.9,
             "#4d9221"
            ],
            [
             1,
             "#276419"
            ]
           ],
           "sequential": [
            [
             0,
             "#0d0887"
            ],
            [
             0.1111111111111111,
             "#46039f"
            ],
            [
             0.2222222222222222,
             "#7201a8"
            ],
            [
             0.3333333333333333,
             "#9c179e"
            ],
            [
             0.4444444444444444,
             "#bd3786"
            ],
            [
             0.5555555555555556,
             "#d8576b"
            ],
            [
             0.6666666666666666,
             "#ed7953"
            ],
            [
             0.7777777777777778,
             "#fb9f3a"
            ],
            [
             0.8888888888888888,
             "#fdca26"
            ],
            [
             1,
             "#f0f921"
            ]
           ],
           "sequentialminus": [
            [
             0,
             "#0d0887"
            ],
            [
             0.1111111111111111,
             "#46039f"
            ],
            [
             0.2222222222222222,
             "#7201a8"
            ],
            [
             0.3333333333333333,
             "#9c179e"
            ],
            [
             0.4444444444444444,
             "#bd3786"
            ],
            [
             0.5555555555555556,
             "#d8576b"
            ],
            [
             0.6666666666666666,
             "#ed7953"
            ],
            [
             0.7777777777777778,
             "#fb9f3a"
            ],
            [
             0.8888888888888888,
             "#fdca26"
            ],
            [
             1,
             "#f0f921"
            ]
           ]
          },
          "colorway": [
           "#636efa",
           "#EF553B",
           "#00cc96",
           "#ab63fa",
           "#FFA15A",
           "#19d3f3",
           "#FF6692",
           "#B6E880",
           "#FF97FF",
           "#FECB52"
          ],
          "font": {
           "color": "#2a3f5f"
          },
          "geo": {
           "bgcolor": "white",
           "lakecolor": "white",
           "landcolor": "#E5ECF6",
           "showlakes": true,
           "showland": true,
           "subunitcolor": "white"
          },
          "hoverlabel": {
           "align": "left"
          },
          "hovermode": "closest",
          "mapbox": {
           "style": "light"
          },
          "paper_bgcolor": "white",
          "plot_bgcolor": "#E5ECF6",
          "polar": {
           "angularaxis": {
            "gridcolor": "white",
            "linecolor": "white",
            "ticks": ""
           },
           "bgcolor": "#E5ECF6",
           "radialaxis": {
            "gridcolor": "white",
            "linecolor": "white",
            "ticks": ""
           }
          },
          "scene": {
           "xaxis": {
            "backgroundcolor": "#E5ECF6",
            "gridcolor": "white",
            "gridwidth": 2,
            "linecolor": "white",
            "showbackground": true,
            "ticks": "",
            "zerolinecolor": "white"
           },
           "yaxis": {
            "backgroundcolor": "#E5ECF6",
            "gridcolor": "white",
            "gridwidth": 2,
            "linecolor": "white",
            "showbackground": true,
            "ticks": "",
            "zerolinecolor": "white"
           },
           "zaxis": {
            "backgroundcolor": "#E5ECF6",
            "gridcolor": "white",
            "gridwidth": 2,
            "linecolor": "white",
            "showbackground": true,
            "ticks": "",
            "zerolinecolor": "white"
           }
          },
          "shapedefaults": {
           "line": {
            "color": "#2a3f5f"
           }
          },
          "ternary": {
           "aaxis": {
            "gridcolor": "white",
            "linecolor": "white",
            "ticks": ""
           },
           "baxis": {
            "gridcolor": "white",
            "linecolor": "white",
            "ticks": ""
           },
           "bgcolor": "#E5ECF6",
           "caxis": {
            "gridcolor": "white",
            "linecolor": "white",
            "ticks": ""
           }
          },
          "title": {
           "x": 0.05
          },
          "xaxis": {
           "automargin": true,
           "gridcolor": "white",
           "linecolor": "white",
           "ticks": "",
           "title": {
            "standoff": 15
           },
           "zerolinecolor": "white",
           "zerolinewidth": 2
          },
          "yaxis": {
           "automargin": true,
           "gridcolor": "white",
           "linecolor": "white",
           "ticks": "",
           "title": {
            "standoff": 15
           },
           "zerolinecolor": "white",
           "zerolinewidth": 2
          }
         }
        },
        "xaxis": {
         "anchor": "y",
         "categoryarray": [
          "cplusplus",
          "javascript",
          "python",
          "java",
          "php"
         ],
         "categoryorder": "array",
         "domain": [
          0,
          1
         ],
         "title": {
          "text": "Linguagem"
         }
        },
        "yaxis": {
         "anchor": "x",
         "domain": [
          0,
          1
         ],
         "title": {
          "text": "TF"
         }
        }
       }
      }
     },
     "metadata": {}
    }
   ],
   "metadata": {}
  }
 ],
 "metadata": {
  "language_info": {
   "name": "python",
   "version": "3.8.10",
   "mimetype": "text/x-python",
   "codemirror_mode": {
    "name": "ipython",
    "version": 3
   },
   "pygments_lexer": "ipython3",
   "nbconvert_exporter": "python",
   "file_extension": ".py"
  },
  "kernelspec": {
   "name": "python3",
   "display_name": "Python 3.8.5 64-bit"
  },
  "interpreter": {
   "hash": "916dbcbb3f70747c44a77c7bcd40155683ae19c65e1c03b4aa3499c5328201f1"
  }
 },
 "nbformat": 4,
 "nbformat_minor": 5
}